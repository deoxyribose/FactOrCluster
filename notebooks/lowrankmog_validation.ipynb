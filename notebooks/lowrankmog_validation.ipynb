{
 "cells": [
  {
   "cell_type": "code",
   "execution_count": 1,
   "metadata": {},
   "outputs": [
    {
     "name": "stderr",
     "output_type": "stream",
     "text": [
      "/home/folzd/anaconda3/lib/python3.6/site-packages/h5py/__init__.py:36: FutureWarning: Conversion of the second argument of issubdtype from `float` to `np.floating` is deprecated. In future, it will be treated as `np.float64 == np.dtype(float).type`.\n",
      "  from ._conv import register_converters as _register_converters\n"
     ]
    }
   ],
   "source": [
    "import tensorflow as tf\n",
    "import tensorflow_probability as tfp\n",
    "tfd = tfp.distributions\n",
    "tfb = tfp.bijectors\n",
    "ed = tfp.edward2\n",
    "import sys\n",
    "sys.path.append(\"../\")\n",
    "from future_features import tape\n",
    "import numpy as np\n",
    "%load_ext autoreload\n",
    "%autoreload 2"
   ]
  },
  {
   "cell_type": "code",
   "execution_count": 2,
   "metadata": {},
   "outputs": [],
   "source": [
    "import matplotlib.pyplot as plt"
   ]
  },
  {
   "cell_type": "code",
   "execution_count": 4,
   "metadata": {},
   "outputs": [
    {
     "name": "stderr",
     "output_type": "stream",
     "text": [
      "/home/folzd/anaconda3/lib/python3.6/importlib/_bootstrap.py:219: ImportWarning: can't resolve package from __spec__ or __package__, falling back on __name__ and __path__\n",
      "  return f(*args, **kwds)\n",
      "/home/folzd/anaconda3/lib/python3.6/importlib/_bootstrap.py:219: ImportWarning: can't resolve package from __spec__ or __package__, falling back on __name__ and __path__\n",
      "  return f(*args, **kwds)\n"
     ]
    }
   ],
   "source": [
    "from tfpmodels import *\n",
    "from mapper import Mapper"
   ]
  },
  {
   "cell_type": "code",
   "execution_count": 5,
   "metadata": {},
   "outputs": [],
   "source": [
    "sess = tf.InteractiveSession()"
   ]
  },
  {
   "cell_type": "code",
   "execution_count": 6,
   "metadata": {
    "scrolled": false
   },
   "outputs": [
    {
     "name": "stdout",
     "output_type": "stream",
     "text": [
      "Tensor(\"add_1:0\", shape=(2, 4, 4), dtype=float64)\n"
     ]
    }
   ],
   "source": [
    "#lrmog_data = Mapper(mixtureOfGaussians, 'lrmog',observed_variable_names=['data'])\n",
    "lrmog_data = Mapper(projectedMixtureOfGaussians, 'lrmog',observed_variable_names=['data'], n_components = 2, n_sources = 3, n_features = 4)"
   ]
  },
  {
   "cell_type": "code",
   "execution_count": 7,
   "metadata": {},
   "outputs": [
    {
     "data": {
      "text/plain": [
       "['factor_loadings',\n",
       " 'mixture_weights',\n",
       " 'mixture_component_means',\n",
       " 'mixture_component_covariances_cholesky',\n",
       " 'data_var']"
      ]
     },
     "execution_count": 7,
     "metadata": {},
     "output_type": "execute_result"
    }
   ],
   "source": [
    "lrmog_data.variable_names"
   ]
  },
  {
   "cell_type": "code",
   "execution_count": 8,
   "metadata": {},
   "outputs": [
    {
     "data": {
      "text/plain": [
       "{'factor_loadings': <tf.Tensor 'lrmog/factor_loadings/read:0' shape=(3, 4) dtype=float64>,\n",
       " 'mixture_weights': <tf.Tensor 'lrmog/softmax_centered/forward/Reshape_1:0' shape=(2,) dtype=float64>,\n",
       " 'mixture_component_means': <tf.Tensor 'lrmog/mixture_component_means/read:0' shape=(2, 3) dtype=float64>,\n",
       " 'mixture_component_covariances_cholesky': <tf.Tensor 'lrmog/scale_tril/forward/transform_diagonal/forward/MatrixSetDiag:0' shape=(2, 3, 3) dtype=float64>,\n",
       " 'data_var': <tf.Tensor 'lrmog/scaled_sigmoid/forward/affine_scalar/forward/add:0' shape=() dtype=float64>}"
      ]
     },
     "execution_count": 8,
     "metadata": {},
     "output_type": "execute_result"
    }
   ],
   "source": [
    "lrmog_data.variables"
   ]
  },
  {
   "cell_type": "code",
   "execution_count": 9,
   "metadata": {},
   "outputs": [
    {
     "data": {
      "text/plain": [
       "{'factor_loadings': <tf.Variable 'lrmog/factor_loadings:0' shape=(3, 4) dtype=float64_ref>,\n",
       " 'mixture_weights': <tf.Variable 'lrmog/mixture_weights:0' shape=(1,) dtype=float64_ref>,\n",
       " 'mixture_component_means': <tf.Variable 'lrmog/mixture_component_means:0' shape=(2, 3) dtype=float64_ref>,\n",
       " 'mixture_component_covariances_cholesky': <tf.Variable 'lrmog/mixture_component_covariances_cholesky:0' shape=(2, 6) dtype=float64_ref>,\n",
       " 'data_var': <tf.Variable 'lrmog/data_var:0' shape=() dtype=float64_ref>}"
      ]
     },
     "execution_count": 9,
     "metadata": {},
     "output_type": "execute_result"
    }
   ],
   "source": [
    "lrmog_data.unconstrained_variables"
   ]
  },
  {
   "cell_type": "code",
   "execution_count": null,
   "metadata": {},
   "outputs": [],
   "source": []
  }
 ],
 "metadata": {
  "kernelspec": {
   "display_name": "Python 3",
   "language": "python",
   "name": "python3"
  },
  "language_info": {
   "codemirror_mode": {
    "name": "ipython",
    "version": 3
   },
   "file_extension": ".py",
   "mimetype": "text/x-python",
   "name": "python",
   "nbconvert_exporter": "python",
   "pygments_lexer": "ipython3",
   "version": "3.6.5"
  }
 },
 "nbformat": 4,
 "nbformat_minor": 2
}
