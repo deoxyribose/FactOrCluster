{
 "cells": [
  {
   "cell_type": "code",
   "execution_count": 37,
   "metadata": {},
   "outputs": [
    {
     "name": "stdout",
     "output_type": "stream",
     "text": [
      "The autoreload extension is already loaded. To reload it, use:\n",
      "  %reload_ext autoreload\n"
     ]
    }
   ],
   "source": [
    "import tensorflow as tf\n",
    "import tensorflow_probability as tfp\n",
    "tfd = tfp.distributions\n",
    "tfb = tfp.bijectors\n",
    "ed = tfp.edward2\n",
    "import sys\n",
    "sys.path.append(\"../\")\n",
    "from future_features import tape\n",
    "import numpy as np\n",
    "from plot_utils import plot_source_distributions, plot_ifa_parameters_and_ppc\n",
    "%load_ext autoreload\n",
    "%autoreload 2"
   ]
  },
  {
   "cell_type": "code",
   "execution_count": 38,
   "metadata": {},
   "outputs": [],
   "source": [
    "from testsuite import MAP_model, neg_log_lik"
   ]
  },
  {
   "cell_type": "code",
   "execution_count": 39,
   "metadata": {},
   "outputs": [],
   "source": [
    "from tfpmodels import *\n",
    "from mapper import Mapper"
   ]
  },
  {
   "cell_type": "code",
   "execution_count": 40,
   "metadata": {},
   "outputs": [],
   "source": [
    "import matplotlib.pyplot as plt\n",
    "from sklearn.metrics.pairwise import cosine_similarity\n",
    "from sklearn.decomposition import FastICA, PCA"
   ]
  },
  {
   "cell_type": "code",
   "execution_count": 41,
   "metadata": {},
   "outputs": [
    {
     "name": "stderr",
     "output_type": "stream",
     "text": [
      "/home/folzd/anaconda3/lib/python3.6/site-packages/tensorflow/python/client/session.py:1645: UserWarning: An interactive session is already active. This can cause out-of-memory errors in some cases. You must explicitly call `InteractiveSession.close()` to release resources held by the other session(s).\n",
      "  warnings.warn('An interactive session is already active. This can '\n"
     ]
    }
   ],
   "source": [
    "sess = tf.InteractiveSession()"
   ]
  },
  {
   "cell_type": "code",
   "execution_count": 42,
   "metadata": {},
   "outputs": [],
   "source": [
    "n_components_in_mixture = 5\n",
    "n_sources = 2\n",
    "n_features = 2\n",
    "n_observations = 1000"
   ]
  },
  {
   "cell_type": "code",
   "execution_count": 43,
   "metadata": {},
   "outputs": [],
   "source": [
    "#ifa_data = Mapper(centeredMarginalizedIndependentFactorAnalysis, 'ifa1', ['data'], n_observations=n_observations, n_components_in_mixture=n_components_in_mixture, n_features=n_features, n_sources=n_sources, mixture_component_var_concentration=.1*3, mixture_component_var_rate=1.*3,data_var_concentration=.1*3,data_var_rate=10.*3)\n",
    "ifa_data = Mapper(mixtureOfGaussians, 'mog', observed_variable_names=['data'], n_observations=n_observations, n_components=4, n_features=n_features,mixture_component_means_var=0.1)\n",
    "ifa_model = Mapper(centeredMarginalizedIndependentFactorAnalysis, 'ifa2', ['data'], n_observations=n_observations, n_components_in_mixture=n_components_in_mixture, n_features=n_features, n_sources=n_sources, mixture_component_var_concentration=.1*1, mixture_component_var_rate=1.*1,data_var_concentration=.1*2,data_var_rate=10.*4)"
   ]
  },
  {
   "cell_type": "code",
   "execution_count": 44,
   "metadata": {},
   "outputs": [],
   "source": [
    "generated = sess.run(ifa_data.tape)"
   ]
  },
  {
   "cell_type": "code",
   "execution_count": 45,
   "metadata": {
    "scrolled": false
   },
   "outputs": [
    {
     "name": "stdout",
     "output_type": "stream",
     "text": [
      "9397.075746344979\n"
     ]
    }
   ],
   "source": [
    "#fica = FastICA(n_components=n_sources).fit(generated['data']).mixing_.T\n",
    "#fica = np.concatenate([fica,np.random.randn(n_sources-n_features,n_features)],axis=0)\n",
    "\n",
    "pca = PCA(n_components=n_sources).fit(generated['data']).components_.T\n",
    "pca = np.concatenate([pca,np.random.randn(n_sources-n_features,n_features)],axis=0)\n",
    "\n",
    "#loss, train_op = ifa_model.adam_optimizer(data=generated['data'], learning_rate=0.01)\n",
    "loss, opt = ifa_model.bfgs_optimizer(data=generated['data'])\n",
    "optstep = tf.contrib.opt.ScipyOptimizerInterface(loss, var_list=list(ifa_model.unconstrained_variables.values()), options={'maxiter': 1})\n",
    "#loss, opt = ifa.cg_optimizer(data=generated['data'])\n",
    "init_ops = []\n",
    "#init_ops = [tf.global_variables_initializer()]\n",
    "\n",
    "# Initialize in true parameters, as a sanity check\n",
    "#true_parameters = dict(generated)\n",
    "#true_parameters.pop('data')\n",
    "#init_ops.append(ifa_model.assigner(**true_parameters))\n",
    "\n",
    "# FastICA, large SNR, uniformish mixing weight initialization\n",
    "#init_ops.append(tf.assign(ifa_model.unconstrained_variables['factor_loadings'], fica,name='initialize_directions'))\n",
    "#init_ops.append(tf.assign(ifa_model.unconstrained_variables['mixture_component_var'], 10*generated['data'].var()*np.random.rand(n_sources,n_components_in_mixture),name='initialize_signal_variance'))\n",
    "#init_ops.append(tf.assign(ifa_model.unconstrained_variables['data_var'], 1e-3*np.ones(ifa_model.unconstrained_variables['data_var'].shape),name='initialize_noise_variance'))\n",
    "#init_ops.append(tf.assign(ifa_model.unconstrained_variables['mixture_weights'], np.ones(ifa_model.unconstrained_variables['mixture_weights'].shape)/n_components_in_mixture,name='initialize_noise_variance'))\n",
    "\n",
    "#init_mixture_component_var = 10.*generated['data'].var()*np.random.rand(n_sources,n_components_in_mixture).astype(np.float32)\n",
    "init_mixture_component_var = 10.*generated['data'].var()*np.ones((n_sources,n_components_in_mixture)).astype(np.float64)\n",
    "init_data_var = 1.*np.ones(ifa_model.variable_shapes['data_var'],dtype=np.float64)\n",
    "init_mixture_weights = np.ones(ifa_model.variable_shapes['mixture_weights'],dtype=np.float64)/n_components_in_mixture\n",
    "\n",
    "init_ops.append(ifa_model.assigner(factor_loadings=pca.astype(np.float64),\n",
    "                                   mixture_component_var=init_mixture_component_var,\n",
    "                                   data_var=init_data_var,\n",
    "                                   mixture_weights=init_mixture_weights))\n",
    "\n",
    "#initialized_parameters = sess.run(ifa_model.variables)\n",
    "#initialized_parameters.pop('sources')\n",
    "#train_nll_init = neg_log_lik(initialized_parameters,centeredIndependentFactorAnalysisTest,generated['data'])\n",
    "#sess.run(tf.assign(ifa_model.unconstrained_variables['sources'], 2*np.ones(ifa.variable_shapes['sources'])))\n",
    "accparams = []\n",
    "learning_curve = []\n",
    "def accumulate_parameters_and_loss(estimated_parameters, loss):\n",
    "    accparams.append(estimated_parameters)\n",
    "    learning_curve.append(loss)\n",
    "sess.run(tf.global_variables_initializer())\n",
    "sess.run([init_ops])\n",
    "print(sess.run(ifa_model.map_neg_log_joint_fn(data=generated['data'])))"
   ]
  },
  {
   "cell_type": "code",
   "execution_count": 46,
   "metadata": {
    "scrolled": false
   },
   "outputs": [
    {
     "name": "stdout",
     "output_type": "stream",
     "text": [
      "INFO:tensorflow:Optimization terminated with:\n",
      "  Message: Desired error not necessarily achieved due to precision loss.\n",
      "  Objective function value: 3932.989813\n",
      "  Number of iterations: 132\n",
      "  Number of functions evaluations: 177\n"
     ]
    }
   ],
   "source": [
    "while True:\n",
    "    try:\n",
    "        opt.minimize(loss_callback=accumulate_parameters_and_loss,fetches=[ifa_model.variables, loss])\n",
    "        break\n",
    "    except:\n",
    "        optstep.minimize(loss_callback=accumulate_parameters_and_loss,fetches=[ifa_model.variables, loss])"
   ]
  },
  {
   "cell_type": "code",
   "execution_count": 47,
   "metadata": {},
   "outputs": [
    {
     "data": {
      "text/plain": [
       "{'mixture_component_var': <tf.Tensor 'ifa2_1/scaled_sigmoid/forward/affine_scalar/forward/add:0' shape=(2, 5) dtype=float64>,\n",
       " 'mixture_weights': <tf.Tensor 'ifa2_1/softmax_centered/forward/Softmax:0' shape=(2, 5) dtype=float64>,\n",
       " 'factor_loadings': <tf.Tensor 'ifa2/factor_loadings/read:0' shape=(2, 2) dtype=float64>,\n",
       " 'data_var': <tf.Tensor 'ifa2_1/scaled_sigmoid_1/forward/affine_scalar/forward/add:0' shape=(2,) dtype=float64>}"
      ]
     },
     "execution_count": 47,
     "metadata": {},
     "output_type": "execute_result"
    }
   ],
   "source": [
    "ifa_model.variables"
   ]
  },
  {
   "cell_type": "code",
   "execution_count": 48,
   "metadata": {},
   "outputs": [
    {
     "data": {
      "text/plain": [
       "<function tfpmodels.centeredMarginalizedIndependentFactorAnalysis(n_observations=1000, n_sources=2, n_components_in_mixture=2, n_features=2, mixture_component_var_concentration=1.0, mixture_component_var_rate=1.0, mixture_weights_concentration=None, data_var_concentration=1.0, data_var_rate=1.0)>"
      ]
     },
     "execution_count": 48,
     "metadata": {},
     "output_type": "execute_result"
    }
   ],
   "source": [
    "centeredMarginalizedIndependentFactorAnalysis"
   ]
  },
  {
   "cell_type": "code",
   "execution_count": 49,
   "metadata": {},
   "outputs": [
    {
     "data": {
      "text/plain": [
       "<function tfpmodels.centeredMarginalizedIndependentFactorAnalysis(n_observations=1000, n_sources=2, n_components_in_mixture=2, n_features=2, mixture_component_var_concentration=1.0, mixture_component_var_rate=1.0, mixture_weights_concentration=None, data_var_concentration=1.0, data_var_rate=1.0)>"
      ]
     },
     "execution_count": 49,
     "metadata": {},
     "output_type": "execute_result"
    }
   ],
   "source": [
    "ifa_model.model"
   ]
  },
  {
   "cell_type": "code",
   "execution_count": 53,
   "metadata": {},
   "outputs": [
    {
     "data": {
      "text/plain": [
       "{'n_observations': 1000,\n",
       " 'n_components_in_mixture': 5,\n",
       " 'n_features': 2,\n",
       " 'n_sources': 2,\n",
       " 'mixture_component_var_concentration': 0.1,\n",
       " 'mixture_component_var_rate': 1.0,\n",
       " 'data_var_concentration': 0.2,\n",
       " 'data_var_rate': 40.0}"
      ]
     },
     "execution_count": 53,
     "metadata": {},
     "output_type": "execute_result"
    }
   ],
   "source": [
    "ifa_model._kwargs"
   ]
  },
  {
   "cell_type": "code",
   "execution_count": 56,
   "metadata": {},
   "outputs": [],
   "source": [
    "def replace_latents(**inferred_latent_variables):\n",
    "    def interceptor(model, *args, **kwargs):\n",
    "        name = kwargs.pop(\"name\")\n",
    "        for key in inferred_latent_variables:\n",
    "            if name == key:\n",
    "                kwargs[\"value\"] = inferred_latent_variables[key]\n",
    "        return model(*args, **kwargs)\n",
    "    return interceptor\n",
    "\n",
    "with ed.interception(replace_latents(**ifa_model.variables)):\n",
    "    generator = ifa_model.model(**ifa_model._kwargs)"
   ]
  },
  {
   "cell_type": "code",
   "execution_count": 59,
   "metadata": {},
   "outputs": [
    {
     "data": {
      "text/plain": [
       "<matplotlib.collections.PathCollection at 0x7f8a585f43c8>"
      ]
     },
     "execution_count": 59,
     "metadata": {},
     "output_type": "execute_result"
    },
    {
     "data": {
      "image/png": "[encoded data removed]",
      "text/plain": [
       "<Figure size 432x288 with 1 Axes>"
      ]
     },
     "metadata": {},
     "output_type": "display_data"
    }
   ],
   "source": [
    "plt.scatter(*generated['data'].T)\n",
    "plt.scatter(*sess.run(generator).T)"
   ]
  },
  {
   "cell_type": "markdown",
   "metadata": {},
   "source": [
    "# ADAM training\n",
    "t = []\n",
    "num_epochs = 20000\n",
    "sess.run(init_ops)\n",
    "for i in range(num_epochs):\n",
    "    sess.run(train_op)\n",
    "    if i % 5 == 0:\n",
    "        current_loss = sess.run(loss)\n",
    "        t.append(current_loss)\n",
    "plt.plot(np.arange(num_epochs,step=5)*5,t)"
   ]
  },
  {
   "cell_type": "markdown",
   "metadata": {},
   "source": [
    "plot_ifa_parameters_and_ppc(sess.run(ifa_model.variables), generated, sess)"
   ]
  },
  {
   "cell_type": "code",
   "execution_count": null,
   "metadata": {},
   "outputs": [],
   "source": [
    "learning_curve[0]"
   ]
  },
  {
   "cell_type": "code",
   "execution_count": null,
   "metadata": {},
   "outputs": [],
   "source": [
    "plt.plot(learning_curve)\n",
    "#plt.ylim([-400000,400000])"
   ]
  },
  {
   "cell_type": "code",
   "execution_count": null,
   "metadata": {},
   "outputs": [],
   "source": [
    "testmodel = centeredMarginalizedIndependentFactorAnalysisTest(n_observations=n_observations, **ifa_model.variables)"
   ]
  },
  {
   "cell_type": "code",
   "execution_count": null,
   "metadata": {
    "scrolled": true
   },
   "outputs": [],
   "source": [
    "ppc = sess.run(testmodel)\n",
    "plt.scatter(*ppc.T,alpha=0.1,label='test')\n",
    "plt.scatter(*generated['data'].T,alpha=0.1,label='data')\n",
    "plt.legend()\n",
    "#plt.axis([-4,4,-4,4])"
   ]
  },
  {
   "cell_type": "code",
   "execution_count": null,
   "metadata": {},
   "outputs": [],
   "source": [
    "plt.hist(generated['data'][:,0],'auto')\n",
    "plt.hist(ppc[:,0],'auto')\n",
    "plt.show()\n",
    "plt.hist(generated['data'][:,1],'auto');\n",
    "plt.hist(ppc[:,1],'auto');"
   ]
  },
  {
   "cell_type": "code",
   "execution_count": null,
   "metadata": {},
   "outputs": [],
   "source": [
    "accparams[-1]"
   ]
  }
 ],
 "metadata": {
  "kernelspec": {
   "display_name": "Python 3",
   "language": "python",
   "name": "python3"
  },
  "language_info": {
   "codemirror_mode": {
    "name": "ipython",
    "version": 3
   },
   "file_extension": ".py",
   "mimetype": "text/x-python",
   "name": "python",
   "nbconvert_exporter": "python",
   "pygments_lexer": "ipython3",
   "version": "3.6.5"
  }
 },
 "nbformat": 4,
 "nbformat_minor": 2
}
