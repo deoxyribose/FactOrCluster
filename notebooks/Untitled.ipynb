{
 "cells": [
  {
   "cell_type": "code",
   "execution_count": 2,
   "metadata": {},
   "outputs": [
    {
     "ename": "SyntaxError",
     "evalue": "invalid syntax (mapper.py, line 36)",
     "output_type": "error",
     "traceback": [
      "\u001b[0;36m  File \u001b[0;32m\"mapper.py\"\u001b[0;36m, line \u001b[0;32m36\u001b[0m\n\u001b[0;31m    return self.loss_fn(*self._args, **self._kwargs, **self.variables)\u001b[0m\n\u001b[0m                                                   ^\u001b[0m\n\u001b[0;31mSyntaxError\u001b[0m\u001b[0;31m:\u001b[0m invalid syntax\n"
     ]
    }
   ],
   "source": [
    "import tensorflow as tf\n",
    "import tensorflow_probability as tfp\n",
    "tfd = tfp.distributions\n",
    "ed = tfp.edward2\n",
    "import numpy as np\n",
    "\n",
    "from future_features import tape\n",
    "from mapper import Mapper\n",
    "\n",
    "from tfpmodels import centeredIndependentFactorAnalysis, mixtureOfGaussians"
   ]
  },
  {
   "cell_type": "code",
   "execution_count": 1,
   "metadata": {},
   "outputs": [
    {
     "ename": "NameError",
     "evalue": "name 'Mapper' is not defined",
     "output_type": "error",
     "traceback": [
      "\u001b[0;31m---------------------------------------------------------------------------\u001b[0m",
      "\u001b[0;31mNameError\u001b[0m                                 Traceback (most recent call last)",
      "\u001b[0;32m<ipython-input-1-11127b1e95db>\u001b[0m in \u001b[0;36m<module>\u001b[0;34m()\u001b[0m\n\u001b[1;32m      5\u001b[0m \u001b[0mn_features\u001b[0m \u001b[0;34m=\u001b[0m \u001b[0;36m10\u001b[0m\u001b[0;34m\u001b[0m\u001b[0m\n\u001b[1;32m      6\u001b[0m \u001b[0;34m\u001b[0m\u001b[0m\n\u001b[0;32m----> 7\u001b[0;31m \u001b[0mcifa_2_3\u001b[0m \u001b[0;34m=\u001b[0m \u001b[0mMapper\u001b[0m\u001b[0;34m(\u001b[0m\u001b[0mcenteredIndependentFactorAnalysis\u001b[0m\u001b[0;34m,\u001b[0m \u001b[0;34m'cifa2'\u001b[0m\u001b[0;34m,\u001b[0m \u001b[0mobserved_variable_names\u001b[0m\u001b[0;34m=\u001b[0m\u001b[0;34m[\u001b[0m\u001b[0;34m'data'\u001b[0m\u001b[0;34m]\u001b[0m\u001b[0;34m,\u001b[0m \u001b[0mn_observations\u001b[0m\u001b[0;34m=\u001b[0m\u001b[0mN\u001b[0m\u001b[0;34m,\u001b[0m \u001b[0mn_components_in_mixture\u001b[0m \u001b[0;34m=\u001b[0m \u001b[0;36m2\u001b[0m\u001b[0;34m,\u001b[0m \u001b[0mn_sources\u001b[0m\u001b[0;34m=\u001b[0m\u001b[0;36m3\u001b[0m\u001b[0;34m,\u001b[0m \u001b[0mn_features\u001b[0m\u001b[0;34m=\u001b[0m\u001b[0mn_features\u001b[0m\u001b[0;34m)\u001b[0m\u001b[0;34m\u001b[0m\u001b[0m\n\u001b[0m\u001b[1;32m      8\u001b[0m \u001b[0mmog_3\u001b[0m \u001b[0;34m=\u001b[0m \u001b[0mMapper\u001b[0m\u001b[0;34m(\u001b[0m\u001b[0mmixtureOfGaussians\u001b[0m\u001b[0;34m,\u001b[0m \u001b[0;34m'mog'\u001b[0m\u001b[0;34m,\u001b[0m \u001b[0mobserved_variable_names\u001b[0m\u001b[0;34m=\u001b[0m\u001b[0;34m[\u001b[0m\u001b[0;34m'data'\u001b[0m\u001b[0;34m]\u001b[0m\u001b[0;34m,\u001b[0m \u001b[0mn_observations\u001b[0m\u001b[0;34m=\u001b[0m\u001b[0mN\u001b[0m\u001b[0;34m,\u001b[0m \u001b[0mn_components\u001b[0m\u001b[0;34m=\u001b[0m\u001b[0;36m3\u001b[0m\u001b[0;34m,\u001b[0m \u001b[0mn_features\u001b[0m\u001b[0;34m=\u001b[0m\u001b[0mn_features\u001b[0m\u001b[0;34m)\u001b[0m\u001b[0;34m\u001b[0m\u001b[0m\n\u001b[1;32m      9\u001b[0m \u001b[0;34m\u001b[0m\u001b[0m\n",
      "\u001b[0;31mNameError\u001b[0m: name 'Mapper' is not defined"
     ]
    }
   ],
   "source": [
    "\n",
    "N = 10000\n",
    "Ntest = 1000\n",
    "\n",
    "n_features = 10\n",
    "\n",
    "cifa_2_3 = Mapper(centeredIndependentFactorAnalysis, 'cifa2', observed_variable_names=['data'], n_observations=N, n_components_in_mixture = 2, n_sources=3, n_features=n_features)\n",
    "mog_3 = Mapper(mixtureOfGaussians, 'mog', observed_variable_names=['data'], n_observations=N, n_components=3, n_features=n_features)\n",
    "\n",
    "models = [cifa_2_3, mog_3]\n"
   ]
  },
  {
   "cell_type": "code",
   "execution_count": null,
   "metadata": {},
   "outputs": [],
   "source": [
    "\n",
    "with tf.Session() as sess:\n",
    "    with tape() as reference_tf:\n",
    "        data_tf = mixtureOfGaussians(n_observations=N, n_components=3, n_features=n_features)\n",
    "    data, reference = sess.run([data_tf, reference_tf])\n",
    "\n",
    "    opt = {}\n",
    "    for model in models: \n",
    "        _, opt[model.model_name] = model.map_optimizer(data=data)\n",
    "    sess.run(tf.global_variables_initializer())\n",
    "    for model in models: \n",
    "opt[model.model_name].minimize()"
   ]
  }
 ],
 "metadata": {
  "kernelspec": {
   "display_name": "Python 3",
   "language": "python",
   "name": "python3"
  },
  "language_info": {
   "codemirror_mode": {
    "name": "ipython",
    "version": 3
   },
   "file_extension": ".py",
   "mimetype": "text/x-python",
   "name": "python",
   "nbconvert_exporter": "python",
   "pygments_lexer": "ipython3",
   "version": "3.6.6"
  }
 },
 "nbformat": 4,
 "nbformat_minor": 2
}
