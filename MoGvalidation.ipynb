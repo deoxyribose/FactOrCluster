{
 "cells": [
  {
   "cell_type": "code",
   "execution_count": 1,
   "metadata": {},
   "outputs": [
    {
     "name": "stderr",
     "output_type": "stream",
     "text": [
      "/home/folzd/anaconda3/lib/python3.6/site-packages/h5py/__init__.py:36: FutureWarning: Conversion of the second argument of issubdtype from `float` to `np.floating` is deprecated. In future, it will be treated as `np.float64 == np.dtype(float).type`.\n",
      "  from ._conv import register_converters as _register_converters\n"
     ]
    }
   ],
   "source": [
    "import tensorflow as tf\n",
    "import tensorflow_probability as tfp\n",
    "tfd = tfp.distributions\n",
    "ed = tfp.edward2\n",
    "import numpy as np\n",
    "\n",
    "from future_features import tape\n",
    "from mapper import Mapper\n",
    "\n",
    "from tfpmodels import centeredIndependentFactorAnalysis, mixtureOfGaussians\n",
    "from tfpmodels import independentFactorAnalysisTest, mixtureOfGaussiansTest\n",
    "\n",
    "from te"
   ]
  },
  {
   "cell_type": "code",
   "execution_count": 10,
   "metadata": {},
   "outputs": [],
   "source": [
    "N = 10000\n",
    "Ntest = 10000\n",
    "\n",
    "n_features = 2\n",
    "n_restarts = 1\n",
    "n_datasets = 1\n",
    "deviations = np.logspace(-3,1,5, dtype='float32')"
   ]
  },
  {
   "cell_type": "code",
   "execution_count": 11,
   "metadata": {},
   "outputs": [],
   "source": [
    "deviations = deviations[-1:] # take a large-variance prior on the cluster means, i.e. spread-out clusters, i.e. high snr"
   ]
  },
  {
   "cell_type": "code",
   "execution_count": null,
   "metadata": {},
   "outputs": [],
   "source": [
    "with tape() as reference_tf:\n",
    "    data_tf = mixtureOfGaussians(n_observations=N + Ntest, n_components=2, n_features=n_features, mixture_component_means_std=placeholder_deviation)\n",
    "        \n",
    "with tf.Session() as sess:\n",
    "    for deviation in deviations:\n",
    "        for dataset in range(n_datasets):\n",
    "            data, reference = sess.run([data_tf, reference_tf], feed_dict={placeholder_deviation: deviation})\n",
    "            loss = {}\n",
    "            opt = {}\n",
    "            for model in models: \n",
    "                loss[model.model_name], opt[model.model_name] = model.map_optimizer(data=data[:N])\n",
    "            for restart in range(n_restarts):        \n",
    "                sess.run(tf.global_variables_initializer())\n",
    "                for i,model in enumerate(models): \n",
    "                    opt[model.model_name].minimize()\n",
    "                    MAP_parameter, converged_loss = sess.run([model.variables, loss[model.model_name]])\n",
    "                    MAP_parameters[(model.model_name, deviation, restart, dataset)] = MAP_parameter\n",
    "                    train_neg_log_joint.loc[{'model': model.model_name, 'deviation': deviation, 'restart': restart, 'dataset': dataset}] = converged_loss\n",
    "                    train_neg_log_lik.loc[{'model': model.model_name, 'deviation': deviation, 'restart': restart, 'dataset': dataset}] = neg_log_lik(MAP_parameter,test_models[i],sess,data[:N])\n",
    "                    test_neg_log_lik.loc[{'model': model.model_name, 'deviation': deviation, 'restart': restart, 'dataset': dataset}] = neg_log_lik(MAP_parameter,test_models[i],sess,data[N:])"
   ]
  }
 ],
 "metadata": {
  "kernelspec": {
   "display_name": "Python 3",
   "language": "python",
   "name": "python3"
  },
  "language_info": {
   "codemirror_mode": {
    "name": "ipython",
    "version": 3
   },
   "file_extension": ".py",
   "mimetype": "text/x-python",
   "name": "python",
   "nbconvert_exporter": "python",
   "pygments_lexer": "ipython3",
   "version": "3.6.5"
  }
 },
 "nbformat": 4,
 "nbformat_minor": 2
}
