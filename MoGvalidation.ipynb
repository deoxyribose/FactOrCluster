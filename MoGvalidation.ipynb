{
 "cells": [
  {
   "cell_type": "code",
   "execution_count": 1,
   "metadata": {},
   "outputs": [
    {
     "name": "stderr",
     "output_type": "stream",
     "text": [
      "/home/folzd/anaconda3/lib/python3.6/site-packages/h5py/__init__.py:36: FutureWarning: Conversion of the second argument of issubdtype from `float` to `np.floating` is deprecated. In future, it will be treated as `np.float64 == np.dtype(float).type`.\n",
      "  from ._conv import register_converters as _register_converters\n"
     ]
    },
    {
     "ename": "ImportError",
     "evalue": "cannot import name 'independentFactorAnalysisTest'",
     "output_type": "error",
     "traceback": [
      "\u001b[0;31m---------------------------------------------------------------------------\u001b[0m",
      "\u001b[0;31mImportError\u001b[0m                               Traceback (most recent call last)",
      "\u001b[0;32m<ipython-input-1-ba9fc9b04cb0>\u001b[0m in \u001b[0;36m<module>\u001b[0;34m()\u001b[0m\n\u001b[1;32m     11\u001b[0m \u001b[0;32mfrom\u001b[0m \u001b[0mtfpmodels\u001b[0m \u001b[0;32mimport\u001b[0m \u001b[0mcenteredIndependentFactorAnalysisTest\u001b[0m\u001b[0;34m,\u001b[0m \u001b[0mmixtureOfGaussiansTest\u001b[0m\u001b[0;34m\u001b[0m\u001b[0m\n\u001b[1;32m     12\u001b[0m \u001b[0;34m\u001b[0m\u001b[0m\n\u001b[0;32m---> 13\u001b[0;31m \u001b[0;32mfrom\u001b[0m \u001b[0mtestsuite\u001b[0m \u001b[0;32mimport\u001b[0m \u001b[0mneg_log_lik\u001b[0m\u001b[0;34m\u001b[0m\u001b[0m\n\u001b[0m",
      "\u001b[0;32m~/FactOrCluster/testsuite.py\u001b[0m in \u001b[0;36m<module>\u001b[0;34m()\u001b[0m\n\u001b[1;32m      9\u001b[0m \u001b[0;34m\u001b[0m\u001b[0m\n\u001b[1;32m     10\u001b[0m \u001b[0;32mfrom\u001b[0m \u001b[0mtfpmodels\u001b[0m \u001b[0;32mimport\u001b[0m \u001b[0mcenteredIndependentFactorAnalysis\u001b[0m\u001b[0;34m,\u001b[0m \u001b[0mmixtureOfGaussians\u001b[0m\u001b[0;34m\u001b[0m\u001b[0m\n\u001b[0;32m---> 11\u001b[0;31m \u001b[0;32mfrom\u001b[0m \u001b[0mtfpmodels\u001b[0m \u001b[0;32mimport\u001b[0m \u001b[0mindependentFactorAnalysisTest\u001b[0m\u001b[0;34m,\u001b[0m \u001b[0mmixtureOfGaussiansTest\u001b[0m\u001b[0;34m\u001b[0m\u001b[0m\n\u001b[0m\u001b[1;32m     12\u001b[0m \u001b[0;34m\u001b[0m\u001b[0m\n\u001b[1;32m     13\u001b[0m \u001b[0;32mimport\u001b[0m \u001b[0mpandas\u001b[0m \u001b[0;32mas\u001b[0m \u001b[0mpd\u001b[0m\u001b[0;34m\u001b[0m\u001b[0m\n",
      "\u001b[0;31mImportError\u001b[0m: cannot import name 'independentFactorAnalysisTest'"
     ]
    }
   ],
   "source": [
    "import tensorflow as tf\n",
    "import tensorflow_probability as tfp\n",
    "tfd = tfp.distributions\n",
    "ed = tfp.edward2\n",
    "import numpy as np\n",
    "\n",
    "from future_features import tape\n",
    "from mapper import Mapper\n",
    "\n",
    "from testsuite import *"
   ]
  },
  {
   "cell_type": "code",
   "execution_count": null,
   "metadata": {},
   "outputs": [],
   "source": [
    "N = 10000\n",
    "Ntest = 10000\n",
    "\n",
    "n_features = 2\n",
    "n_restarts = 1\n",
    "n_datasets = 1\n",
    "deviations = np.logspace(-3,1,5, dtype='float32')"
   ]
  },
  {
   "cell_type": "code",
   "execution_count": null,
   "metadata": {},
   "outputs": [],
   "source": [
    "deviations = deviations[-1:] # take a large-variance prior on the cluster means, i.e. spread-out clusters, i.e. high snr"
   ]
  },
  {
   "cell_type": "code",
   "execution_count": null,
   "metadata": {},
   "outputs": [],
   "source": [
    "with tape() as reference_tf:\n",
    "    data_tf = mixtureOfGaussians(n_observations=N + Ntest, n_components=2, n_features=n_features, mixture_component_means_std=placeholder_deviation)\n",
    "        \n",
    "with tf.Session() as sess:\n",
    "    for deviation in deviations:\n",
    "        for dataset in range(n_datasets):\n",
    "            data, reference = sess.run([data_tf, reference_tf], feed_dict={placeholder_deviation: deviation})\n",
    "            loss = {}\n",
    "            opt = {}\n",
    "            for model in models: \n",
    "                loss[model.model_name], opt[model.model_name] = model.map_optimizer(data=data[:N])\n",
    "            for restart in range(n_restarts):        \n",
    "                sess.run(tf.global_variables_initializer())\n",
    "                for i,model in enumerate(models): \n",
    "                    opt[model.model_name].minimize()\n",
    "                    MAP_parameter, converged_loss = sess.run([model.variables, loss[model.model_name]])\n",
    "                    MAP_parameters[(model.model_name, deviation, restart, dataset)] = MAP_parameter\n",
    "                    train_neg_log_joint.loc[{'model': model.model_name, 'deviation': deviation, 'restart': restart, 'dataset': dataset}] = converged_loss\n",
    "                    train_neg_log_lik.loc[{'model': model.model_name, 'deviation': deviation, 'restart': restart, 'dataset': dataset}] = neg_log_lik(MAP_parameter,test_models[i],sess,data[:N])\n",
    "                    test_neg_log_lik.loc[{'model': model.model_name, 'deviation': deviation, 'restart': restart, 'dataset': dataset}] = neg_log_lik(MAP_parameter,test_models[i],sess,data[N:])"
   ]
  }
 ],
 "metadata": {
  "kernelspec": {
   "display_name": "Python 3",
   "language": "python",
   "name": "python3"
  },
  "language_info": {
   "codemirror_mode": {
    "name": "ipython",
    "version": 3
   },
   "file_extension": ".py",
   "mimetype": "text/x-python",
   "name": "python",
   "nbconvert_exporter": "python",
   "pygments_lexer": "ipython3",
   "version": "3.6.5"
  }
 },
 "nbformat": 4,
 "nbformat_minor": 2
}
